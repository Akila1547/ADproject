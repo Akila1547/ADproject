{
 "cells": [
  {
   "cell_type": "code",
   "execution_count": 47,
   "id": "2a8441f1",
   "metadata": {},
   "outputs": [
    {
     "name": "stdout",
     "output_type": "stream",
     "text": [
      "Requirement already satisfied: cripser in c:\\users\\91703\\anaconda3\\lib\\site-packages (0.0.13)\n",
      "Requirement already satisfied: persim in c:\\users\\91703\\anaconda3\\lib\\site-packages (0.3.4)\n",
      "Requirement already satisfied: scikit-learn in c:\\users\\91703\\anaconda3\\lib\\site-packages (from persim) (1.0.2)\n",
      "Requirement already satisfied: numpy in c:\\users\\91703\\anaconda3\\lib\\site-packages (from persim) (1.23.5)\n",
      "Requirement already satisfied: matplotlib in c:\\users\\91703\\anaconda3\\lib\\site-packages (from persim) (3.8.4)\n",
      "Requirement already satisfied: scipy in c:\\users\\91703\\anaconda3\\lib\\site-packages (from persim) (1.9.1)\n",
      "Requirement already satisfied: hopcroftkarp in c:\\users\\91703\\anaconda3\\lib\\site-packages (from persim) (1.2.5)\n",
      "Requirement already satisfied: deprecated in c:\\users\\91703\\anaconda3\\lib\\site-packages (from persim) (1.2.14)\n",
      "Requirement already satisfied: joblib in c:\\users\\91703\\anaconda3\\lib\\site-packages (from persim) (1.1.0)\n",
      "Requirement already satisfied: wrapt<2,>=1.10 in c:\\users\\91703\\anaconda3\\lib\\site-packages (from deprecated->persim) (1.14.1)\n",
      "Requirement already satisfied: contourpy>=1.0.1 in c:\\users\\91703\\anaconda3\\lib\\site-packages (from matplotlib->persim) (1.2.0)\n",
      "Requirement already satisfied: cycler>=0.10 in c:\\users\\91703\\anaconda3\\lib\\site-packages (from matplotlib->persim) (0.11.0)\n",
      "Requirement already satisfied: fonttools>=4.22.0 in c:\\users\\91703\\anaconda3\\lib\\site-packages (from matplotlib->persim) (4.25.0)\n",
      "Requirement already satisfied: kiwisolver>=1.3.1 in c:\\users\\91703\\anaconda3\\lib\\site-packages (from matplotlib->persim) (1.4.2)\n",
      "Requirement already satisfied: packaging>=20.0 in c:\\users\\91703\\anaconda3\\lib\\site-packages (from matplotlib->persim) (21.3)\n",
      "Requirement already satisfied: pillow>=8 in c:\\users\\91703\\anaconda3\\lib\\site-packages (from matplotlib->persim) (9.2.0)\n",
      "Requirement already satisfied: pyparsing>=2.3.1 in c:\\users\\91703\\anaconda3\\lib\\site-packages (from matplotlib->persim) (3.0.9)\n",
      "Requirement already satisfied: python-dateutil>=2.7 in c:\\users\\91703\\anaconda3\\lib\\site-packages (from matplotlib->persim) (2.8.2)\n",
      "Requirement already satisfied: importlib-resources>=3.2.0 in c:\\users\\91703\\anaconda3\\lib\\site-packages (from matplotlib->persim) (6.1.2)\n",
      "Requirement already satisfied: threadpoolctl>=2.0.0 in c:\\users\\91703\\anaconda3\\lib\\site-packages (from scikit-learn->persim) (2.2.0)\n",
      "Requirement already satisfied: zipp>=3.1.0 in c:\\users\\91703\\anaconda3\\lib\\site-packages (from importlib-resources>=3.2.0->matplotlib->persim) (3.8.0)\n",
      "Requirement already satisfied: six>=1.5 in c:\\users\\91703\\anaconda3\\lib\\site-packages (from python-dateutil>=2.7->matplotlib->persim) (1.16.0)\n"
     ]
    }
   ],
   "source": [
    "! pip install cripser\n",
    "! pip install persim"
   ]
  },
  {
   "cell_type": "code",
   "execution_count": 48,
   "id": "1b0c9719",
   "metadata": {},
   "outputs": [
    {
     "name": "stdout",
     "output_type": "stream",
     "text": [
      "Requirement already satisfied: scikit-image in c:\\users\\91703\\anaconda3\\lib\\site-packages (0.19.2)\n",
      "Requirement already satisfied: numpy>=1.17.0 in c:\\users\\91703\\anaconda3\\lib\\site-packages (from scikit-image) (1.23.5)\n",
      "Requirement already satisfied: scipy>=1.4.1 in c:\\users\\91703\\anaconda3\\lib\\site-packages (from scikit-image) (1.9.1)\n",
      "Requirement already satisfied: networkx>=2.2 in c:\\users\\91703\\anaconda3\\lib\\site-packages (from scikit-image) (2.8.4)\n",
      "Requirement already satisfied: pillow!=7.1.0,!=7.1.1,!=8.3.0,>=6.1.0 in c:\\users\\91703\\anaconda3\\lib\\site-packages (from scikit-image) (9.2.0)\n",
      "Requirement already satisfied: imageio>=2.4.1 in c:\\users\\91703\\anaconda3\\lib\\site-packages (from scikit-image) (2.19.3)\n",
      "Requirement already satisfied: tifffile>=2019.7.26 in c:\\users\\91703\\anaconda3\\lib\\site-packages (from scikit-image) (2021.7.2)\n",
      "Requirement already satisfied: PyWavelets>=1.1.1 in c:\\users\\91703\\anaconda3\\lib\\site-packages (from scikit-image) (1.3.0)\n",
      "Requirement already satisfied: packaging>=20.0 in c:\\users\\91703\\anaconda3\\lib\\site-packages (from scikit-image) (21.3)\n",
      "Requirement already satisfied: pyparsing!=3.0.5,>=2.0.2 in c:\\users\\91703\\anaconda3\\lib\\site-packages (from packaging>=20.0->scikit-image) (3.0.9)\n"
     ]
    }
   ],
   "source": [
    "! pip install scikit-image"
   ]
  },
  {
   "cell_type": "code",
   "execution_count": 49,
   "id": "2de86682",
   "metadata": {},
   "outputs": [],
   "source": [
    "## load necessary libraries\n",
    "%matplotlib inline\n",
    "#%matplotlib widget\n",
    "import numpy as np\n",
    "import matplotlib.pyplot as plt\n",
    "from mpl_toolkits.mplot3d import Axes3D\n",
    "from matplotlib.widgets import Slider, Button, RadioButtons\n",
    "import os,time,subprocess,glob\n",
    "from PIL import Image\n",
    "import cripser as cr\n",
    "import tcripser as tcr\n",
    "import persim\n",
    "import skimage\n",
    "from skimage import io\n",
    "from skimage.transform import rotate\n",
    "from skimage.data import cells3d\n",
    "from skimage.filters import threshold_otsu\n",
    "from scipy.ndimage import distance_transform_edt,convolve\n",
    "import os, re\n",
    "from tkinter import filedialog\n",
    "import tkinter as tk\n",
    "\n"
   ]
  },
  {
   "cell_type": "code",
   "execution_count": 50,
   "id": "fe51fb70",
   "metadata": {},
   "outputs": [
    {
     "name": "stdout",
     "output_type": "stream",
     "text": [
      "All images have been resized and saved to the output folder.\n"
     ]
    }
   ],
   "source": [
    "def resize_images(input_folder, output_folder, target_size):\n",
    "    # Create the output folder if it doesn't exist\n",
    "    if not os.path.exists(output_folder):\n",
    "        os.makedirs(output_folder)\n",
    "\n",
    "    # Iterate through each file in the input folder\n",
    "    for filename in os.listdir(input_folder):\n",
    "        # Check if the file is an image file\n",
    "        if filename.endswith(\".jpg\") or filename.endswith(\".jpeg\") or filename.endswith(\".png\"):\n",
    "            # Open the image\n",
    "            img_path = os.path.join(input_folder, filename)\n",
    "            img = Image.open(img_path)\n",
    "\n",
    "            # Resize the image\n",
    "            resized_img = img.resize(target_size)\n",
    "\n",
    "\n",
    "            # Save the resized image to the output folder\n",
    "            output_path = os.path.join(output_folder, filename)\n",
    "            resized_img.save(output_path)\n",
    "\n",
    "    print(\"All images have been resized and saved to the output folder.\")\n",
    "\n",
    "def select_folder():\n",
    "    root = tk.Tk()\n",
    "    root.withdraw() # Hide the root window\n",
    "    folder_path = filedialog.askdirectory()\n",
    "    return folder_path\n",
    "\n",
    "# Interactively select the input folder\n",
    "input_folder = select_folder()\n",
    "\n",
    "# Create the output folder with '_resized' extension\n",
    "output_folder = input_folder + \"_resized\"\n",
    "\n",
    "# Set the target size for resizing\n",
    "target_size = (300, 300)  # Change this to the desired dimensions\n",
    "\n",
    "# Resize images in the input folder and save to the output folder\n",
    "resize_images(input_folder, output_folder, target_size)"
   ]
  },
  {
   "cell_type": "code",
   "execution_count": 51,
   "id": "1c224549",
   "metadata": {},
   "outputs": [],
   "source": [
    "import matplotlib\n",
    "matplotlib.rcParams['text.usetex'] = False"
   ]
  },
  {
   "cell_type": "code",
   "execution_count": 52,
   "id": "62be147b",
   "metadata": {},
   "outputs": [],
   "source": [
    "root = tk.Tk()\n",
    "root.withdraw()  # Hide the root window\n",
    "\n",
    "# Ask the user to select the folder containing the images\n",
    "img_folder = filedialog.askdirectory(title=\"Select the folder containing images\")\n",
    "\n",
    "if img_folder:  # If a folder is selected\n",
    "    # Change directory to the selected folder\n",
    "    os.chdir(img_folder)\n",
    "\n",
    "    volfile = \"img.npy\"  ## the 3d image will be saved into this 3D numpy array file\n",
    "\n",
    "    # Create a 3d stack from 2d images\n",
    "    if os.path.isdir(img_folder):\n",
    "        # Load image files from a dir and stack into a 3D array of type float64\n",
    "        input_files = os.path.join(img_folder, \"*.png\")\n",
    "        files = [f for f in glob.glob(input_files)]\n",
    "        files.sort(key=lambda val: int(re.sub(\"\\\\D\", \"\", val + \"0\")))\n",
    "        img3d = np.dstack([Image.open(f).convert('L') for f in files]).astype('f8')\n",
    "    else:\n",
    "        ## Create a dummy stack from a single 2d image\n",
    "        img3d = np.dstack([rotate(img2d, 10 * i) for i in range(8)])\n",
    "        # img3d = skimage.util.img_as_float(cells3d()[:, 1, :, :]).transpose((1,2,0))  # requires pooch\n",
    "\n",
    "    np.save(volfile, img3d.astype(np.float64))\n",
    "\n",
    "    # Rescaling\n",
    "    #img3d = skimage.transform.resize(img3d,(130,160,6))\n",
    "\n",
    "    #plt.imshow(img3d[:, :, img3d.shape[-1] // 2])\n",
    "    #plt.colorbar()  # Add colorbar for better interpretation if needed\n",
    "    #plt.show()\n",
    "    #print(img3d.shape, img3d.dtype, f\"{np.min(img3d)}--{np.max(img3d)}\")\n",
    "else:\n",
    "    print(\"No folder selected. Exiting.\")"
   ]
  },
  {
   "cell_type": "code",
   "execution_count": 53,
   "id": "6e728475",
   "metadata": {},
   "outputs": [
    {
     "name": "stdout",
     "output_type": "stream",
     "text": [
      "Betti numbers:  [11068, 15451, 3719]\n",
      "Betti numbers:  [4788, 15391, 8692]\n",
      "elapsed_time:5.518418073654175 sec\n"
     ]
    },
    {
     "data": {
      "image/png": "[encoded data removed]",
      "text/plain": [
       "<Figure size 640x480 with 2 Axes>"
      ]
     },
     "metadata": {},
     "output_type": "display_data"
    }
   ],
   "source": [
    "start = time.time()\n",
    "pd = cr.computePH(img3d)\n",
    "pds = [pd[pd[:,0] == i] for i in range(3)]\n",
    "print(\"Betti numbers: \",[len(pds[i]) for i in range(len(pds))])\n",
    "\n",
    "# compute PH for the T-construction of the original image (pixel value filtration)\n",
    "pdt = tcr.computePH(img3d)\n",
    "pdst = [pdt[pdt[:,0] == i] for i in range(3)]\n",
    "print(\"Betti numbers: \",[len(pdst[i]) for i in range(len(pdst))])\n",
    "\n",
    "print (\"elapsed_time:{} sec\".format(time.time() - start))\n",
    "## plot persistent diagram using persim\n",
    "fig,axs = plt.subplots(1,2)\n",
    "persim.plot_diagrams([p[:,1:3] for p in pds], ax=axs[0], title='V-construction')\n",
    "persim.plot_diagrams([p[:,1:3] for p in pdst], ax=axs[1], title='T-construction')\n"
   ]
  },
  {
   "cell_type": "code",
   "execution_count": 54,
   "id": "57e88ce6",
   "metadata": {},
   "outputs": [
    {
     "name": "stdout",
     "output_type": "stream",
     "text": [
      "Betti numbers for V-construction:  [11068, 15451, 3719]\n",
      "Betti numbers for T-construction:  [4788, 15391, 8692]\n",
      "Elapsed time: 5.44040584564209 sec\n",
      "Persistent entropy for H0 (V-construction): 4.002720438188818\n",
      "Persistent entropy for H1 (V-construction): 4.361336015419503\n",
      "Persistent entropy for H2 (V-construction): 4.405690701615314\n",
      "Persistent entropy for H0 (T-construction): 3.805761410809678\n",
      "Persistent entropy for H1 (T-construction): 4.386110894995055\n",
      "Persistent entropy for H2 (T-construction): 4.487447040991739\n"
     ]
    }
   ],
   "source": [
    "import numpy as np\n",
    "import time\n",
    "import persim\n",
    "import matplotlib.pyplot as plt\n",
    "from scipy.stats import entropy\n",
    "\n",
    "def persistent_entropy(dgm):\n",
    "    # Compute counts of lifetimes in the diagram\n",
    "    counts = np.bincount(np.clip(np.ceil(dgm[:, 1] - dgm[:, 0]).astype(int), 0, None))\n",
    "    \n",
    "    # Calculate entropy\n",
    "    return entropy(counts[counts != 0])\n",
    "\n",
    "# Your code to compute persistent diagrams\n",
    "start = time.time()\n",
    "pd = cr.computePH(img3d)\n",
    "pds = [pd[pd[:,0] == i] for i in range(3)]\n",
    "print(\"Betti numbers for V-construction: \",[len(pds[i]) for i in range(len(pds))])\n",
    "\n",
    "pdt = tcr.computePH(img3d)\n",
    "pdst = [pdt[pdt[:,0] == i] for i in range(3)]\n",
    "print(\"Betti numbers for T-construction: \",[len(pdst[i]) for i in range(len(pdst))])\n",
    "print(\"Elapsed time: {} sec\".format(time.time() - start))\n",
    "\n",
    "# Compute persistent entropy for each dimension\n",
    "e0_v = persistent_entropy(pds[0])\n",
    "e1_v = persistent_entropy(pds[1])\n",
    "e2_v = persistent_entropy(pds[2])\n",
    "\n",
    "e0_t = persistent_entropy(pdst[0])\n",
    "e1_t = persistent_entropy(pdst[1])\n",
    "e2_t = persistent_entropy(pdst[2])\n",
    "\n",
    "# Display the results\n",
    "print(\"Persistent entropy for H0 (V-construction):\", e0_v)\n",
    "print(\"Persistent entropy for H1 (V-construction):\", e1_v)\n",
    "print(\"Persistent entropy for H2 (V-construction):\", e2_v)\n",
    "\n",
    "print(\"Persistent entropy for H0 (T-construction):\", e0_t)\n",
    "print(\"Persistent entropy for H1 (T-construction):\", e1_t)\n",
    "print(\"Persistent entropy for H2 (T-construction):\", e2_t)\n"
   ]
  },
  {
   "cell_type": "code",
   "execution_count": 55,
   "id": "75743187",
   "metadata": {},
   "outputs": [
    {
     "name": "stdout",
     "output_type": "stream",
     "text": [
      "Data saved to Excel file: persistent_data.xlsx\n"
     ]
    }
   ],
   "source": [
    "import pandas as pd\n",
    "from openpyxl import Workbook\n",
    "from openpyxl.utils.dataframe import dataframe_to_rows\n",
    "\n",
    "# Function to save data to Excel\n",
    "def save_to_excel(filepath, data):\n",
    "    # Create a Pandas DataFrame\n",
    "    df = pd.DataFrame(data)\n",
    "    \n",
    "    # Create a new Excel workbook\n",
    "    wb = Workbook()\n",
    "    ws = wb.active\n",
    "    \n",
    "    # Add DataFrame to the workbook\n",
    "    for row in dataframe_to_rows(df, index=False, header=True):\n",
    "        ws.append(row)\n",
    "    \n",
    "    # Save the workbook\n",
    "    wb.save(filepath)\n",
    "    print(\"Data saved to Excel file:\", filepath)\n",
    "\n",
    "# After computing Betti numbers and persistent entropies, save them to Excel\n",
    "data_to_save = {\n",
    "    'Dimension': ['H0', 'H1', 'H2'],\n",
    "    'V-Construction Betti': [len(pds[0]), len(pds[1]), len(pds[2])],\n",
    "    'T-Construction Betti': [len(pdst[0]), len(pdst[1]), len(pdst[2])],\n",
    "    'V-Construction Entropy': [e0_v, e1_v, e2_v],\n",
    "    'T-Construction Entropy': [e0_t, e1_t, e2_t]\n",
    "}\n",
    "save_to_excel('persistent_data.xlsx', data_to_save)\n"
   ]
  }
 ],
 "metadata": {
  "kernelspec": {
   "display_name": "Python 3 (ipykernel)",
   "language": "python",
   "name": "python3"
  },
  "language_info": {
   "codemirror_mode": {
    "name": "ipython",
    "version": 3
   },
   "file_extension": ".py",
   "mimetype": "text/x-python",
   "name": "python",
   "nbconvert_exporter": "python",
   "pygments_lexer": "ipython3",
   "version": "3.9.13"
  }
 },
 "nbformat": 4,
 "nbformat_minor": 5
}
