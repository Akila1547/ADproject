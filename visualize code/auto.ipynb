{
 "cells": [
  {
   "cell_type": "code",
   "execution_count": 1,
   "metadata": {},
   "outputs": [],
   "source": [
    "import nibabel as nib                          #code for  reading and writing NIfTI files\n",
    "import matplotlib.pyplot as plt\n",
    "import os\n",
    "\n",
    "def save_slices_as_images(nii_file, output_dir):\n",
    "    # Load the NIfTI file\n",
    "    img = nib.load(nii_file)\n",
    "    data = img.get_fdata()\n",
    "    \n",
    "    # Create the output directory if it doesn't exist\n",
    "    os.makedirs(output_dir, exist_ok=True)\n",
    "    \n",
    "    # Iterate through the slices along the x-axis and save as images\n",
    "    for x in range(data.shape[0]):\n",
    "        # Extract the x-th slice\n",
    "        slice_data = data[x, :, :]\n",
    "        \n",
    "        # Plot and save the slice as an image\n",
    "        plt.imshow(slice_data, cmap='gray')\n",
    "        plt.axis('off')  # Hide axis\n",
    "        plt.savefig(os.path.join(output_dir, f'slice_{x}.jpg'), bbox_inches='tight', pad_inches=0)\n",
    "        plt.close()\n",
    "\n",
    "# Example usage:\n",
    "nii_file = \"C:/Users/91703/Desktop/project/AD/ad4 and layers/ad4.nii\"\n",
    "output_dir = 'C:/Users/91703/Desktop/project/AD/ad4 and layers'\n",
    "save_slices_as_images(nii_file, output_dir)\n"
   ]
  }
 ],
 "metadata": {
  "kernelspec": {
   "display_name": "base",
   "language": "python",
   "name": "python3"
  },
  "language_info": {
   "codemirror_mode": {
    "name": "ipython",
    "version": 3
   },
   "file_extension": ".py",
   "mimetype": "text/x-python",
   "name": "python",
   "nbconvert_exporter": "python",
   "pygments_lexer": "ipython3",
   "version": "3.9.13"
  }
 },
 "nbformat": 4,
 "nbformat_minor": 2
}
