{
 "cells": [
  {
   "cell_type": "code",
   "execution_count": 2,
   "metadata": {},
   "outputs": [],
   "source": [
    "import os\n",
    "import numpy as np\n",
    "import pandas as pd\n",
    "import matplotlib.pyplot as plt\n",
    "from mpl_toolkits.mplot3d import Axes3D\n",
    "import plotly.graph_objects as go\n",
    "\n",
    "image_dir = \"C:/Users/91703/Desktop/project/AD/ad2 and layers_resized\"\n",
    "\n",
    "# Get a list of all image files in the directory\n",
    "image_files = [file for file in os.listdir(image_dir) if file.endswith('.png')]\n",
    "\n",
    "# Process each image file\n",
    "for image_file in image_files:\n",
    "    filename_image = os.path.join(image_dir, image_file)\n",
    "    print(f\"Processing image file: {image_file}\")\n",
    "\n",
    "    # Load the grayscale image\n",
    "    inputImage = plt.imread(filename_image)\n",
    "\n",
    "    # Check if the image is in color (3 channels)\n",
    "    if inputImage.ndim == 3:\n",
    "        # Convert to grayscale\n",
    "        inputImage = np.mean(inputImage, axis=-1)\n",
    "\n",
    "    # Get the dimensions of the image\n",
    "    rows, cols = inputImage.shape\n",
    "\n",
    "    # Create x and y coordinate grids\n",
    "    x, y = np.meshgrid(np.arange(cols), np.arange(rows))\n",
    "\n",
    "    # Reshape the x, y, and intensity arrays\n",
    "    x = x.flatten()\n",
    "    y = y.flatten()\n",
    "    intensity = inputImage.flatten()\n",
    "\n",
    "    # Write coordinates and intensity values to an Excel file\n",
    "    filename_output = f'C:/Users/91703/Desktop/project/AD/ad2 and layers{os.path.splitext(image_file)[0]}.xlsx'\n",
    "\n",
    "    # Create a DataFrame\n",
    "    df = pd.DataFrame({'X': x, 'Y': y, 'Intensity': intensity})\n",
    "\n",
    "    # Save DataFrame to Excel\n",
    "    df.to_excel(filename_output, index=False)\n",
    "\n",
    "    print(f\"Coordinates and intensity values written to {filename_output}\")\n"
   ]
  }
 ],
 "metadata": {
  "kernelspec": {
   "display_name": "base",
   "language": "python",
   "name": "python3"
  },
  "language_info": {
   "codemirror_mode": {
    "name": "ipython",
    "version": 3
   },
   "file_extension": ".py",
   "mimetype": "text/x-python",
   "name": "python",
   "nbconvert_exporter": "python",
   "pygments_lexer": "ipython3",
   "version": "3.9.13"
  }
 },
 "nbformat": 4,
 "nbformat_minor": 2
}
