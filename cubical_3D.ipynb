{
 "cells": [
  {
   "cell_type": "code",
   "execution_count": 1,
   "id": "2de86682",
   "metadata": {},
   "outputs": [],
   "source": [
    "## load necessary libraries\n",
    "%matplotlib inline\n",
    "#%matplotlib widget\n",
    "import numpy as np\n",
    "import matplotlib.pyplot as plt\n",
    "from mpl_toolkits.mplot3d import Axes3D\n",
    "from matplotlib.widgets import Slider, Button, RadioButtons\n",
    "import os,time,subprocess,glob\n",
    "from PIL import Image\n",
    "import cripser as cr\n",
    "import tcripser as tcr\n",
    "import persim\n",
    "import skimage\n",
    "from skimage import io\n",
    "from skimage.transform import rotate\n",
    "from skimage.data import cells3d\n",
    "from skimage.filters import threshold_otsu\n",
    "from scipy.ndimage import distance_transform_edt,convolve\n",
    "import os, re\n",
    "from tkinter import filedialog\n",
    "import tkinter as tk\n",
    "\n"
   ]
  },
  {
   "cell_type": "code",
   "execution_count": 2,
   "id": "a6b997d0",
   "metadata": {},
   "outputs": [
    {
     "name": "stdout",
     "output_type": "stream",
     "text": [
      "Requirement already satisfied: cripser in c:\\users\\91703\\anaconda3\\lib\\site-packages (0.0.13)\n",
      "Note: you may need to restart the kernel to use updated packages.\n"
     ]
    }
   ],
   "source": [
    "pip install cripser\n"
   ]
  },
  {
   "cell_type": "code",
   "execution_count": 3,
   "id": "44890682",
   "metadata": {},
   "outputs": [
    {
     "name": "stdout",
     "output_type": "stream",
     "text": [
      "Requirement already satisfied: persim in c:\\users\\91703\\anaconda3\\lib\\site-packages (0.3.4)\n",
      "Requirement already satisfied: scikit-learn in c:\\users\\91703\\anaconda3\\lib\\site-packages (from persim) (1.0.2)\n",
      "Requirement already satisfied: numpy in c:\\users\\91703\\anaconda3\\lib\\site-packages (from persim) (1.23.5)\n",
      "Requirement already satisfied: matplotlib in c:\\users\\91703\\anaconda3\\lib\\site-packages (from persim) (3.8.4)\n",
      "Requirement already satisfied: scipy in c:\\users\\91703\\anaconda3\\lib\\site-packages (from persim) (1.9.1)\n",
      "Requirement already satisfied: hopcroftkarp in c:\\users\\91703\\anaconda3\\lib\\site-packages (from persim) (1.2.5)\n",
      "Requirement already satisfied: deprecated in c:\\users\\91703\\anaconda3\\lib\\site-packages (from persim) (1.2.14)\n",
      "Requirement already satisfied: joblib in c:\\users\\91703\\anaconda3\\lib\\site-packages (from persim) (1.1.0)\n",
      "Requirement already satisfied: wrapt<2,>=1.10 in c:\\users\\91703\\anaconda3\\lib\\site-packages (from deprecated->persim) (1.14.1)\n",
      "Requirement already satisfied: contourpy>=1.0.1 in c:\\users\\91703\\anaconda3\\lib\\site-packages (from matplotlib->persim) (1.2.0)\n",
      "Requirement already satisfied: cycler>=0.10 in c:\\users\\91703\\anaconda3\\lib\\site-packages (from matplotlib->persim) (0.11.0)\n",
      "Requirement already satisfied: fonttools>=4.22.0 in c:\\users\\91703\\anaconda3\\lib\\site-packages (from matplotlib->persim) (4.25.0)\n",
      "Requirement already satisfied: kiwisolver>=1.3.1 in c:\\users\\91703\\anaconda3\\lib\\site-packages (from matplotlib->persim) (1.4.2)\n",
      "Requirement already satisfied: packaging>=20.0 in c:\\users\\91703\\anaconda3\\lib\\site-packages (from matplotlib->persim) (21.3)\n",
      "Requirement already satisfied: pillow>=8 in c:\\users\\91703\\anaconda3\\lib\\site-packages (from matplotlib->persim) (9.2.0)\n",
      "Requirement already satisfied: pyparsing>=2.3.1 in c:\\users\\91703\\anaconda3\\lib\\site-packages (from matplotlib->persim) (3.0.9)\n",
      "Requirement already satisfied: python-dateutil>=2.7 in c:\\users\\91703\\anaconda3\\lib\\site-packages (from matplotlib->persim) (2.8.2)\n",
      "Requirement already satisfied: importlib-resources>=3.2.0 in c:\\users\\91703\\anaconda3\\lib\\site-packages (from matplotlib->persim) (6.1.2)\n",
      "Requirement already satisfied: threadpoolctl>=2.0.0 in c:\\users\\91703\\anaconda3\\lib\\site-packages (from scikit-learn->persim) (2.2.0)\n",
      "Requirement already satisfied: zipp>=3.1.0 in c:\\users\\91703\\anaconda3\\lib\\site-packages (from importlib-resources>=3.2.0->matplotlib->persim) (3.8.0)\n",
      "Requirement already satisfied: six>=1.5 in c:\\users\\91703\\anaconda3\\lib\\site-packages (from python-dateutil>=2.7->matplotlib->persim) (1.16.0)\n",
      "Note: you may need to restart the kernel to use updated packages.\n"
     ]
    }
   ],
   "source": [
    "pip install persim"
   ]
  },
  {
   "cell_type": "code",
   "execution_count": 4,
   "id": "fe51fb70",
   "metadata": {},
   "outputs": [
    {
     "name": "stdout",
     "output_type": "stream",
     "text": [
      "All images have been resized and saved to the output folder.\n"
     ]
    }
   ],
   "source": [
    "def resize_images(input_folder, output_folder, target_size):\n",
    "    # Create the output folder if it doesn't exist\n",
    "    if not os.path.exists(output_folder):\n",
    "        os.makedirs(output_folder)\n",
    "\n",
    "    # Iterate through each file in the input folder\n",
    "    for filename in os.listdir(input_folder):\n",
    "        # Check if the file is an image file\n",
    "        if filename.endswith(\".jpg\") or filename.endswith(\".jpeg\") or filename.endswith(\".png\"):\n",
    "            # Open the image\n",
    "            img_path = os.path.join(input_folder, filename)\n",
    "            img = Image.open(img_path)\n",
    "\n",
    "            # Resize the image\n",
    "            resized_img = img.resize(target_size)\n",
    "\n",
    "\n",
    "            # Save the resized image to the output folder\n",
    "            output_path = os.path.join(output_folder, filename)\n",
    "            resized_img.save(output_path)\n",
    "\n",
    "    print(\"All images have been resized and saved to the output folder.\")\n",
    "\n",
    "def select_folder():\n",
    "    root = tk.Tk()\n",
    "    root.withdraw() # Hide the root window\n",
    "    folder_path = filedialog.askdirectory()\n",
    "    return folder_path\n",
    "\n",
    "# Interactively select the input folder\n",
    "input_folder = select_folder()\n",
    "\n",
    "# Create the output folder with '_resized' extension\n",
    "output_folder = input_folder + \"_resized\"\n",
    "\n",
    "# Set the target size for resizing\n",
    "target_size = (480,480)  # Change this to the desired dimensions\n",
    "\n",
    "# Resize images in the input folder and save to the output folder\n",
    "resize_images(input_folder, output_folder, target_size)"
   ]
  },
  {
   "cell_type": "code",
   "execution_count": 5,
   "id": "6bea781b",
   "metadata": {},
   "outputs": [
    {
     "name": "stdout",
     "output_type": "stream",
     "text": [
      "Requirement already satisfied: matplotlib in c:\\users\\91703\\anaconda3\\lib\\site-packages (3.8.4)\n",
      "Requirement already satisfied: contourpy>=1.0.1 in c:\\users\\91703\\anaconda3\\lib\\site-packages (from matplotlib) (1.2.0)\n",
      "Requirement already satisfied: cycler>=0.10 in c:\\users\\91703\\anaconda3\\lib\\site-packages (from matplotlib) (0.11.0)\n",
      "Requirement already satisfied: fonttools>=4.22.0 in c:\\users\\91703\\anaconda3\\lib\\site-packages (from matplotlib) (4.25.0)\n",
      "Requirement already satisfied: kiwisolver>=1.3.1 in c:\\users\\91703\\anaconda3\\lib\\site-packages (from matplotlib) (1.4.2)\n",
      "Requirement already satisfied: numpy>=1.21 in c:\\users\\91703\\anaconda3\\lib\\site-packages (from matplotlib) (1.23.5)\n",
      "Requirement already satisfied: packaging>=20.0 in c:\\users\\91703\\anaconda3\\lib\\site-packages (from matplotlib) (21.3)\n",
      "Requirement already satisfied: pillow>=8 in c:\\users\\91703\\anaconda3\\lib\\site-packages (from matplotlib) (9.2.0)\n",
      "Requirement already satisfied: pyparsing>=2.3.1 in c:\\users\\91703\\anaconda3\\lib\\site-packages (from matplotlib) (3.0.9)\n",
      "Requirement already satisfied: python-dateutil>=2.7 in c:\\users\\91703\\anaconda3\\lib\\site-packages (from matplotlib) (2.8.2)\n",
      "Requirement already satisfied: importlib-resources>=3.2.0 in c:\\users\\91703\\anaconda3\\lib\\site-packages (from matplotlib) (6.1.2)\n",
      "Requirement already satisfied: zipp>=3.1.0 in c:\\users\\91703\\anaconda3\\lib\\site-packages (from importlib-resources>=3.2.0->matplotlib) (3.8.0)\n",
      "Requirement already satisfied: six>=1.5 in c:\\users\\91703\\anaconda3\\lib\\site-packages (from python-dateutil>=2.7->matplotlib) (1.16.0)\n",
      "Note: you may need to restart the kernel to use updated packages.\n"
     ]
    }
   ],
   "source": [
    "pip install --upgrade matplotlib\n"
   ]
  },
  {
   "cell_type": "code",
   "execution_count": 2,
   "id": "e392c8b4",
   "metadata": {},
   "outputs": [],
   "source": [
    "import tkinter as tk"
   ]
  },
  {
   "cell_type": "code",
   "execution_count": 1,
   "id": "62be147b",
   "metadata": {},
   "outputs": [
    {
     "ename": "NameError",
     "evalue": "name 'tk' is not defined",
     "output_type": "error",
     "traceback": [
      "\u001b[1;31m---------------------------------------------------------------------------\u001b[0m",
      "\u001b[1;31mNameError\u001b[0m                                 Traceback (most recent call last)",
      "\u001b[1;32m~\\AppData\\Local\\Temp\\ipykernel_13192\\2268622854.py\u001b[0m in \u001b[0;36m<module>\u001b[1;34m\u001b[0m\n\u001b[1;32m----> 1\u001b[1;33m \u001b[0mroot\u001b[0m \u001b[1;33m=\u001b[0m \u001b[0mtk\u001b[0m\u001b[1;33m.\u001b[0m\u001b[0mTk\u001b[0m\u001b[1;33m(\u001b[0m\u001b[1;33m)\u001b[0m\u001b[1;33m\u001b[0m\u001b[1;33m\u001b[0m\u001b[0m\n\u001b[0m\u001b[0;32m      2\u001b[0m \u001b[0mroot\u001b[0m\u001b[1;33m.\u001b[0m\u001b[0mwithdraw\u001b[0m\u001b[1;33m(\u001b[0m\u001b[1;33m)\u001b[0m  \u001b[1;31m# Hide the root window\u001b[0m\u001b[1;33m\u001b[0m\u001b[1;33m\u001b[0m\u001b[0m\n\u001b[0;32m      3\u001b[0m \u001b[1;33m\u001b[0m\u001b[0m\n\u001b[0;32m      4\u001b[0m \u001b[1;31m# Ask the user to select the folder containing the images\u001b[0m\u001b[1;33m\u001b[0m\u001b[1;33m\u001b[0m\u001b[0m\n\u001b[0;32m      5\u001b[0m \u001b[0mimg_folder\u001b[0m \u001b[1;33m=\u001b[0m \u001b[0mfiledialog\u001b[0m\u001b[1;33m.\u001b[0m\u001b[0maskdirectory\u001b[0m\u001b[1;33m(\u001b[0m\u001b[0mtitle\u001b[0m\u001b[1;33m=\u001b[0m\u001b[1;34m\"Select the folder containing images\"\u001b[0m\u001b[1;33m)\u001b[0m\u001b[1;33m\u001b[0m\u001b[1;33m\u001b[0m\u001b[0m\n",
      "\u001b[1;31mNameError\u001b[0m: name 'tk' is not defined"
     ]
    }
   ],
   "source": [
    "root = tk.Tk()\n",
    "root.withdraw()  # Hide the root window\n",
    "\n",
    "# Ask the user to select the folder containing the images\n",
    "img_folder = filedialog.askdirectory(title=\"Select the folder containing images\")\n",
    "\n",
    "if img_folder:  # If a folder is selected\n",
    "    # Change directory to the selected folder\n",
    "    os.chdir(img_folder)\n",
    "\n",
    "    volfile = \"img.npy\"  ## the 3d image will be saved into this 3D numpy array file\n",
    "\n",
    "    # Create a 3d stack from 2d images\n",
    "    if os.path.isdir(img_folder):\n",
    "        # Load image files from a dir and stack into a 3D array of type float64\n",
    "        input_files = os.path.join(img_folder, \"*.png\")\n",
    "        files = [f for f in glob.glob(input_files)]\n",
    "        files.sort(key=lambda val: int(re.sub(\"\\\\D\", \"\", val + \"0\")))\n",
    "        img3d = np.dstack([Image.open(f).convert('L') for f in files]).astype('f8')\n",
    "    else:\n",
    "        ## Create a dummy stack from a single 2d image\n",
    "        img3d = np.dstack([rotate(img2d, 10 * i) for i in range(8)])\n",
    "        # img3d = skimage.util.img_as_float(cells3d()[:, 1, :, :]).transpose((1,2,0))  # requires pooch\n",
    "\n",
    "    np.save(volfile, img3d.astype(np.float64))\n",
    "\n",
    "    # Rescaling\n",
    "    #img3d = skimage.transform.resize(img3d,(130,160,6))\n",
    "\n",
    "    plt.imshow(img3d[:, :, img3d.shape[-1] // 2])\n",
    "    plt.colorbar()  # Add colorbar for better interpretation if needed\n",
    "    plt.show()\n",
    "    print(img3d.shape, img3d.dtype, f\"{np.min(img3d)}--{np.max(img3d)}\")\n",
    "else:\n",
    "    print(\"No folder selected. Exiting.\")"
   ]
  },
  {
   "cell_type": "code",
   "execution_count": 11,
   "id": "6e728475",
   "metadata": {},
   "outputs": [
    {
     "ename": "NameError",
     "evalue": "name 'img3d' is not defined",
     "output_type": "error",
     "traceback": [
      "\u001b[1;31m---------------------------------------------------------------------------\u001b[0m",
      "\u001b[1;31mNameError\u001b[0m                                 Traceback (most recent call last)",
      "\u001b[1;32m~\\AppData\\Local\\Temp\\ipykernel_9000\\2932217674.py\u001b[0m in \u001b[0;36m<module>\u001b[1;34m\u001b[0m\n\u001b[0;32m      1\u001b[0m \u001b[0mstart\u001b[0m \u001b[1;33m=\u001b[0m \u001b[0mtime\u001b[0m\u001b[1;33m.\u001b[0m\u001b[0mtime\u001b[0m\u001b[1;33m(\u001b[0m\u001b[1;33m)\u001b[0m\u001b[1;33m\u001b[0m\u001b[1;33m\u001b[0m\u001b[0m\n\u001b[1;32m----> 2\u001b[1;33m \u001b[0mpd\u001b[0m \u001b[1;33m=\u001b[0m \u001b[0mcr\u001b[0m\u001b[1;33m.\u001b[0m\u001b[0mcomputePH\u001b[0m\u001b[1;33m(\u001b[0m\u001b[0mimg3d\u001b[0m\u001b[1;33m)\u001b[0m\u001b[1;33m\u001b[0m\u001b[1;33m\u001b[0m\u001b[0m\n\u001b[0m\u001b[0;32m      3\u001b[0m \u001b[0mpds\u001b[0m \u001b[1;33m=\u001b[0m \u001b[1;33m[\u001b[0m\u001b[0mpd\u001b[0m\u001b[1;33m[\u001b[0m\u001b[0mpd\u001b[0m\u001b[1;33m[\u001b[0m\u001b[1;33m:\u001b[0m\u001b[1;33m,\u001b[0m\u001b[1;36m0\u001b[0m\u001b[1;33m]\u001b[0m \u001b[1;33m==\u001b[0m \u001b[0mi\u001b[0m\u001b[1;33m]\u001b[0m \u001b[1;32mfor\u001b[0m \u001b[0mi\u001b[0m \u001b[1;32min\u001b[0m \u001b[0mrange\u001b[0m\u001b[1;33m(\u001b[0m\u001b[1;36m3\u001b[0m\u001b[1;33m)\u001b[0m\u001b[1;33m]\u001b[0m\u001b[1;33m\u001b[0m\u001b[1;33m\u001b[0m\u001b[0m\n\u001b[0;32m      4\u001b[0m \u001b[0mprint\u001b[0m\u001b[1;33m(\u001b[0m\u001b[1;34m\"Betti numbers: \"\u001b[0m\u001b[1;33m,\u001b[0m\u001b[1;33m[\u001b[0m\u001b[0mlen\u001b[0m\u001b[1;33m(\u001b[0m\u001b[0mpds\u001b[0m\u001b[1;33m[\u001b[0m\u001b[0mi\u001b[0m\u001b[1;33m]\u001b[0m\u001b[1;33m)\u001b[0m \u001b[1;32mfor\u001b[0m \u001b[0mi\u001b[0m \u001b[1;32min\u001b[0m \u001b[0mrange\u001b[0m\u001b[1;33m(\u001b[0m\u001b[0mlen\u001b[0m\u001b[1;33m(\u001b[0m\u001b[0mpds\u001b[0m\u001b[1;33m)\u001b[0m\u001b[1;33m)\u001b[0m\u001b[1;33m]\u001b[0m\u001b[1;33m)\u001b[0m\u001b[1;33m\u001b[0m\u001b[1;33m\u001b[0m\u001b[0m\n\u001b[0;32m      5\u001b[0m \u001b[1;33m\u001b[0m\u001b[0m\n",
      "\u001b[1;31mNameError\u001b[0m: name 'img3d' is not defined"
     ]
    }
   ],
   "source": [
    "start = time.time()\n",
    "pd = cr.computePH(img3d)\n",
    "pds = [pd[pd[:,0] == i] for i in range(3)]\n",
    "print(\"Betti numbers: \",[len(pds[i]) for i in range(len(pds))])\n",
    "\n",
    "# compute PH for the T-construction of the original image (pixel value filtration)\n",
    "pdt = tcr.computePH(img3d)\n",
    "pdst = [pdt[pdt[:,0] == i] for i in range(3)]\n",
    "print(\"Betti numbers: \",[len(pdst[i]) for i in range(len(pdst))])\n",
    "\n",
    "print (\"elapsed_time:{} sec\".format(time.time() - start))\n",
    "## plot persistent diagram using persim\n",
    "fig,axs = plt.subplots(1,2)\n",
    "persim.plot_diagrams([p[:,1:3] for p in pds], ax=axs[0], title='V-construction')\n",
    "persim.plot_diagrams([p[:,1:3] for p in pdst], ax=axs[1], title='T-construction')\n"
   ]
  }
 ],
 "metadata": {
  "kernelspec": {
   "display_name": "Python 3 (ipykernel)",
   "language": "python",
   "name": "python3"
  },
  "language_info": {
   "codemirror_mode": {
    "name": "ipython",
    "version": 3
   },
   "file_extension": ".py",
   "mimetype": "text/x-python",
   "name": "python",
   "nbconvert_exporter": "python",
   "pygments_lexer": "ipython3",
   "version": "3.9.13"
  }
 },
 "nbformat": 4,
 "nbformat_minor": 5
}
