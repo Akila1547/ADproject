{
 "cells": [
  {
   "cell_type": "code",
   "execution_count": 1,
   "metadata": {},
   "outputs": [
    {
     "name": "stdout",
     "output_type": "stream",
     "text": [
      "Requirement already satisfied: Flask in c:\\users\\91703\\anaconda3\\lib\\site-packages (1.1.2)\n",
      "Requirement already satisfied: Werkzeug>=0.15 in c:\\users\\91703\\anaconda3\\lib\\site-packages (from Flask) (2.0.3)\n",
      "Requirement already satisfied: Jinja2>=2.10.1 in c:\\users\\91703\\anaconda3\\lib\\site-packages (from Flask) (2.11.3)\n",
      "Requirement already satisfied: itsdangerous>=0.24 in c:\\users\\91703\\anaconda3\\lib\\site-packages (from Flask) (2.0.1)\n",
      "Requirement already satisfied: click>=5.1 in c:\\users\\91703\\anaconda3\\lib\\site-packages (from Flask) (8.0.4)\n",
      "Requirement already satisfied: colorama in c:\\users\\91703\\anaconda3\\lib\\site-packages (from click>=5.1->Flask) (0.4.5)\n",
      "Requirement already satisfied: MarkupSafe>=0.23 in c:\\users\\91703\\anaconda3\\lib\\site-packages (from Jinja2>=2.10.1->Flask) (2.0.1)\n",
      "Note: you may need to restart the kernel to use updated packages.\n"
     ]
    },
    {
     "name": "stderr",
     "output_type": "stream",
     "text": [
      "\n",
      "[notice] A new release of pip is available: 23.3.2 -> 24.0\n",
      "[notice] To update, run: python.exe -m pip install --upgrade pip\n"
     ]
    }
   ],
   "source": [
    "pip install Flask\n"
   ]
  },
  {
   "cell_type": "code",
   "execution_count": 4,
   "metadata": {},
   "outputs": [
    {
     "name": "stdout",
     "output_type": "stream",
     "text": [
      " * Serving Flask app \"__main__\" (lazy loading)\n",
      " * Environment: production\n",
      "\u001b[31m   WARNING: This is a development server. Do not use it in a production deployment.\u001b[0m\n",
      "\u001b[2m   Use a production WSGI server instead.\u001b[0m\n",
      " * Debug mode: on\n"
     ]
    },
    {
     "name": "stderr",
     "output_type": "stream",
     "text": [
      " * Restarting with watchdog (windowsapi)\n"
     ]
    },
    {
     "ename": "SystemExit",
     "evalue": "1",
     "output_type": "error",
     "traceback": [
      "An exception has occurred, use %tb to see the full traceback.\n",
      "\u001b[1;31mSystemExit\u001b[0m\u001b[1;31m:\u001b[0m 1\n"
     ]
    }
   ],
   "source": [
    "from app import Flask, render_template, request, jsonify\n",
    "import numpy as np\n",
    "import persim\n",
    "import matplotlib.pyplot as plt\n",
    "from PIL import Image\n",
    "import os\n",
    "import glob\n",
    "import re\n",
    "import time\n",
    "\n",
    "app = Flask(__name__)\n",
    "\n",
    "@app.route('/')\n",
    "def index():\n",
    "    return render_template('diagnostic.html')\n",
    "\n",
    "@app.route('/generate_persistence_diagram', methods=['POST'])\n",
    "def generate_persistence_diagram():\n",
    "    img_folder = request.form['img_folder']\n",
    "    if img_folder:\n",
    "        os.chdir(img_folder)\n",
    "        volfile = \"img.npy\"\n",
    "\n",
    "        if os.path.isdir(img_folder):\n",
    "            input_files = os.path.join(img_folder, \"*.png\")\n",
    "            files = [f for f in glob.glob(input_files)]\n",
    "            files.sort(key=lambda val: int(re.sub(\"\\\\D\", \"\", val + \"0\")))\n",
    "            img3d = np.dstack([np.array(Image.open(f).convert('L')) for f in files]).astype('f8')\n",
    "        else:\n",
    "            img3d = np.dstack([np.array(Image.open(f).convert('L')) for f in files]).astype('f8')\n",
    "\n",
    "        np.save(volfile, img3d.astype(np.float64))\n",
    "\n",
    "        plt.imshow(img3d[:, :, img3d.shape[-1] // 2])\n",
    "        plt.colorbar()\n",
    "        plt.show()\n",
    "        print(img3d.shape, img3d.dtype, f\"{np.min(img3d)}--{np.max(img3d)}\")\n",
    "    else:\n",
    "        return jsonify({'status': 'error', 'message': 'No folder selected.'})\n",
    "\n",
    "    pd_v_construction, pd_t_construction = compute_persistence_diagram(img3d)\n",
    "    betti_numbers = get_betti_numbers(pd_v_construction, pd_t_construction)\n",
    "\n",
    "    return jsonify({'status': 'success', 'pd_v_construction': pd_v_construction.tolist(),\n",
    "                    'pd_t_construction': pd_t_construction.tolist(), 'betti_numbers': betti_numbers})\n",
    "\n",
    "def compute_persistence_diagram(images):\n",
    "    # Compute PH for V-construction\n",
    "    pd_v_construction = np.random.rand(10, 2)\n",
    "\n",
    "    # Compute PH for T-construction\n",
    "    pd_t_construction = np.random.rand(10, 2)\n",
    "\n",
    "    return pd_v_construction, pd_t_construction\n",
    "\n",
    "def get_betti_numbers(pd_v_construction, pd_t_construction):\n",
    "    # Compute Betti numbers for V-construction and T-construction\n",
    "    betti_numbers = {\n",
    "        'v_construction': [len(pd_v_construction)],\n",
    "        't_construction': [len(pd_t_construction)]\n",
    "    }\n",
    "\n",
    "    return betti_numbers\n",
    "\n",
    "if __name__ == '__main__':\n",
    "    app.run(debug=True)\n"
   ]
  },
  {
   "cell_type": "markdown",
   "metadata": {},
   "source": []
  }
 ],
 "metadata": {
  "kernelspec": {
   "display_name": "base",
   "language": "python",
   "name": "python3"
  },
  "language_info": {
   "codemirror_mode": {
    "name": "ipython",
    "version": 3
   },
   "file_extension": ".py",
   "mimetype": "text/x-python",
   "name": "python",
   "nbconvert_exporter": "python",
   "pygments_lexer": "ipython3",
   "version": "3.9.13"
  }
 },
 "nbformat": 4,
 "nbformat_minor": 2
}
