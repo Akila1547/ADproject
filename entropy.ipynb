{
 "cells": [
  {
   "cell_type": "code",
   "execution_count": 2,
   "metadata": {},
   "outputs": [
    {
     "name": "stderr",
     "output_type": "stream",
     "text": [
      "C:\\Users\\91703\\AppData\\Local\\Temp\\ipykernel_15328\\694848637.py:16: DeprecationWarning: Starting with ImageIO v3 the behavior of this function will switch to that of iio.v3.imread. To keep the current behavior (and make this warning dissapear) use `import imageio.v2 as imageio` or call `imageio.v2.imread` directly.\n",
      "  image = imageio.imread(image_path)\n"
     ]
    },
    {
     "name": "stdout",
     "output_type": "stream",
     "text": [
      "Entropy of 90.png: 4.790029236350346\n",
      "Entropy of 91.png: 4.752536458768818\n",
      "Entropy of 92.png: 4.776394828725644\n",
      "Entropy of 93.png: 4.799267240429581\n",
      "Entropy of 94.png: 4.780951081502943\n",
      "Entropy of 95.png: 4.824246814122874\n",
      "Entropy of 96.png: 4.795680399433664\n",
      "Entropy of 97.png: 4.780260232163046\n"
     ]
    }
   ],
   "source": [
    "import numpy as np\n",
    "import imageio\n",
    "import os\n",
    "\n",
    "def calculate_entropy(image_path):\n",
    "    \"\"\"\n",
    "    Calculate entropy of a given MRI image.\n",
    "    \n",
    "    Args:\n",
    "    - image_path: Path to the MRI image\n",
    "    \n",
    "    Returns:\n",
    "    - entropy_value: Entropy value of the image\n",
    "    \"\"\"\n",
    "    # Load the MRI image\n",
    "    image = imageio.imread(image_path)\n",
    "    \n",
    "    # Convert the image to grayscale if it's RGB\n",
    "    if len(image.shape) == 3:\n",
    "        image = image.mean(axis=2)\n",
    "    \n",
    "    # Calculate entropy\n",
    "    histogram = np.histogram(image, bins=256, range=(0, 255))[0]\n",
    "    probabilities = histogram / float(np.sum(histogram))\n",
    "    entropy_value = - np.sum(probabilities * np.log2(probabilities + 1e-10))  # Adding a small value to avoid log(0)\n",
    "    \n",
    "    return entropy_value\n",
    "\n",
    "def main():\n",
    "    # Directory containing the MRI images\n",
    "    images_directory = \"C:/Users/91703/Desktop/project/AD/ad1 and layers\"\n",
    "    \n",
    "    # Iterate over each MRI image in the directory\n",
    "    for image_file in os.listdir(images_directory):\n",
    "        if image_file.endswith(\".png\") or image_file.endswith(\".jpg\"):  # Assuming images are in PNG or JPEG format\n",
    "            image_path = os.path.join(images_directory, image_file)\n",
    "            entropy_value = calculate_entropy(image_path)\n",
    "            print(f\"Entropy of {image_file}: {entropy_value}\")\n",
    "\n",
    "if __name__ == \"__main__\":\n",
    "    main()\n"
   ]
  },
  {
   "cell_type": "code",
   "execution_count": 4,
   "metadata": {},
   "outputs": [
    {
     "name": "stdout",
     "output_type": "stream",
     "text": [
      "Collecting SimpleITK\n",
      "  Downloading SimpleITK-2.3.1-cp39-cp39-win_amd64.whl.metadata (8.0 kB)\n",
      "Downloading SimpleITK-2.3.1-cp39-cp39-win_amd64.whl (18.1 MB)\n",
      "   ---------------------------------------- 18.1/18.1 MB 2.3 MB/s eta 0:00:00\n",
      "Installing collected packages: SimpleITK\n",
      "Successfully installed SimpleITK-2.3.1\n",
      "Note: you may need to restart the kernel to use updated packages.\n"
     ]
    }
   ],
   "source": [
    "pip install SimpleITK\n"
   ]
  },
  {
   "cell_type": "code",
   "execution_count": 6,
   "metadata": {},
   "outputs": [
    {
     "name": "stdout",
     "output_type": "stream",
     "text": [
      "Collecting opencv-python\n",
      "  Downloading opencv_python-4.9.0.80-cp37-abi3-win_amd64.whl.metadata (20 kB)\n",
      "Requirement already satisfied: numpy>=1.17.0 in c:\\users\\91703\\anaconda3\\lib\\site-packages (from opencv-python) (1.23.5)\n",
      "Downloading opencv_python-4.9.0.80-cp37-abi3-win_amd64.whl (38.6 MB)\n",
      "   -----------                              11.6/38.6 MB 665.4 kB/s eta 0:00:41\n",
      "Note: you may need to restart the kernel to use updated packages.\n"
     ]
    },
    {
     "name": "stderr",
     "output_type": "stream",
     "text": [
      "ERROR: Exception:\n",
      "Traceback (most recent call last):\n",
      "  File \"c:\\Users\\91703\\anaconda3\\lib\\site-packages\\pip\\_vendor\\urllib3\\response.py\", line 438, in _error_catcher\n",
      "    yield\n",
      "  File \"c:\\Users\\91703\\anaconda3\\lib\\site-packages\\pip\\_vendor\\urllib3\\response.py\", line 561, in read\n",
      "    data = self._fp_read(amt) if not fp_closed else b\"\"\n",
      "  File \"c:\\Users\\91703\\anaconda3\\lib\\site-packages\\pip\\_vendor\\urllib3\\response.py\", line 527, in _fp_read\n",
      "    return self._fp.read(amt) if amt is not None else self._fp.read()\n",
      "  File \"c:\\Users\\91703\\anaconda3\\lib\\site-packages\\pip\\_vendor\\cachecontrol\\filewrapper.py\", line 98, in read\n",
      "    data: bytes = self.__fp.read(amt)\n",
      "  File \"c:\\Users\\91703\\anaconda3\\lib\\http\\client.py\", line 463, in read\n",
      "    n = self.readinto(b)\n",
      "  File \"c:\\Users\\91703\\anaconda3\\lib\\http\\client.py\", line 507, in readinto\n",
      "    n = self.fp.readinto(b)\n",
      "  File \"c:\\Users\\91703\\anaconda3\\lib\\socket.py\", line 704, in readinto\n",
      "    return self._sock.recv_into(b)\n",
      "  File \"c:\\Users\\91703\\anaconda3\\lib\\ssl.py\", line 1242, in recv_into\n",
      "    return self.read(nbytes, buffer)\n",
      "  File \"c:\\Users\\91703\\anaconda3\\lib\\ssl.py\", line 1100, in read\n",
      "    return self._sslobj.read(len, buffer)\n",
      "socket.timeout: The read operation timed out\n",
      "\n",
      "During handling of the above exception, another exception occurred:\n",
      "\n",
      "Traceback (most recent call last):\n",
      "  File \"c:\\Users\\91703\\anaconda3\\lib\\site-packages\\pip\\_internal\\cli\\base_command.py\", line 180, in exc_logging_wrapper\n",
      "    status = run_func(*args)\n",
      "  File \"c:\\Users\\91703\\anaconda3\\lib\\site-packages\\pip\\_internal\\cli\\req_command.py\", line 245, in wrapper\n",
      "    return func(self, options, args)\n",
      "  File \"c:\\Users\\91703\\anaconda3\\lib\\site-packages\\pip\\_internal\\commands\\install.py\", line 377, in run\n",
      "    requirement_set = resolver.resolve(\n",
      "  File \"c:\\Users\\91703\\anaconda3\\lib\\site-packages\\pip\\_internal\\resolution\\resolvelib\\resolver.py\", line 179, in resolve\n",
      "    self.factory.preparer.prepare_linked_requirements_more(reqs)\n",
      "  File \"c:\\Users\\91703\\anaconda3\\lib\\site-packages\\pip\\_internal\\operations\\prepare.py\", line 552, in prepare_linked_requirements_more\n",
      "    self._complete_partial_requirements(\n",
      "  File \"c:\\Users\\91703\\anaconda3\\lib\\site-packages\\pip\\_internal\\operations\\prepare.py\", line 467, in _complete_partial_requirements\n",
      "    for link, (filepath, _) in batch_download:\n",
      "  File \"c:\\Users\\91703\\anaconda3\\lib\\site-packages\\pip\\_internal\\network\\download.py\", line 183, in __call__\n",
      "    for chunk in chunks:\n",
      "  File \"c:\\Users\\91703\\anaconda3\\lib\\site-packages\\pip\\_internal\\cli\\progress_bars.py\", line 53, in _rich_progress_bar\n",
      "    for chunk in iterable:\n",
      "  File \"c:\\Users\\91703\\anaconda3\\lib\\site-packages\\pip\\_internal\\network\\utils.py\", line 63, in response_chunks\n",
      "    for chunk in response.raw.stream(\n",
      "  File \"c:\\Users\\91703\\anaconda3\\lib\\site-packages\\pip\\_vendor\\urllib3\\response.py\", line 622, in stream\n",
      "    data = self.read(amt=amt, decode_content=decode_content)\n",
      "  File \"c:\\Users\\91703\\anaconda3\\lib\\site-packages\\pip\\_vendor\\urllib3\\response.py\", line 587, in read\n",
      "    raise IncompleteRead(self._fp_bytes_read, self.length_remaining)\n",
      "  File \"c:\\Users\\91703\\anaconda3\\lib\\contextlib.py\", line 137, in __exit__\n",
      "    self.gen.throw(typ, value, traceback)\n",
      "  File \"c:\\Users\\91703\\anaconda3\\lib\\site-packages\\pip\\_vendor\\urllib3\\response.py\", line 443, in _error_catcher\n",
      "    raise ReadTimeoutError(self._pool, None, \"Read timed out.\")\n",
      "pip._vendor.urllib3.exceptions.ReadTimeoutError: HTTPSConnectionPool(host='files.pythonhosted.org', port=443): Read timed out.\n"
     ]
    }
   ],
   "source": [
    "pip install opencv-python\n"
   ]
  },
  {
   "cell_type": "code",
   "execution_count": 13,
   "metadata": {},
   "outputs": [
    {
     "ename": "ModuleNotFoundError",
     "evalue": "No module named 'cv2'",
     "output_type": "error",
     "traceback": [
      "\u001b[1;31m---------------------------------------------------------------------------\u001b[0m",
      "\u001b[1;31mModuleNotFoundError\u001b[0m                       Traceback (most recent call last)",
      "\u001b[1;32m~\\AppData\\Local\\Temp\\ipykernel_29632\\125578771.py\u001b[0m in \u001b[0;36m<module>\u001b[1;34m\u001b[0m\n\u001b[0;32m      1\u001b[0m \u001b[1;32mimport\u001b[0m \u001b[0mnumpy\u001b[0m \u001b[1;32mas\u001b[0m \u001b[0mnp\u001b[0m\u001b[1;33m\u001b[0m\u001b[1;33m\u001b[0m\u001b[0m\n\u001b[1;32m----> 2\u001b[1;33m \u001b[1;32mimport\u001b[0m \u001b[0mcv2\u001b[0m  \u001b[1;31m# OpenCV\u001b[0m\u001b[1;33m\u001b[0m\u001b[1;33m\u001b[0m\u001b[0m\n\u001b[0m\u001b[0;32m      3\u001b[0m \u001b[1;31m# If you prefer PIL, you can use the following instead:\u001b[0m\u001b[1;33m\u001b[0m\u001b[1;33m\u001b[0m\u001b[0m\n\u001b[0;32m      4\u001b[0m \u001b[1;31m# from PIL import Image\u001b[0m\u001b[1;33m\u001b[0m\u001b[1;33m\u001b[0m\u001b[0m\n\u001b[0;32m      5\u001b[0m \u001b[1;33m\u001b[0m\u001b[0m\n",
      "\u001b[1;31mModuleNotFoundError\u001b[0m: No module named 'cv2'"
     ]
    }
   ],
   "source": [
    "import numpy as np\n",
    "import cv2  # OpenCV\n",
    "# If you prefer PIL, you can use the following instead:\n",
    "# from PIL import Image\n",
    "\n",
    "def compute_entropy(image):\n",
    "    # Compute entropy of the image\n",
    "    hist = cv2.calcHist([image], [0], None, [256], [0, 256])\n",
    "    hist = hist[hist > 0]\n",
    "    prob = hist / np.sum(hist)\n",
    "    entropy = -np.sum(prob * np.log2(prob))\n",
    "    return entropy\n",
    "\n",
    "def compute_homological_entropies(image_stack):\n",
    "    # Compute entropy for different homological layers\n",
    "    entropies = []\n",
    "    for layer in range(image_stack.shape[2]):\n",
    "        entropy = compute_entropy(image_stack[:, :, layer])\n",
    "        entropies.append(entropy)\n",
    "    return entropies\n",
    "\n",
    "def main():\n",
    "    # Load PNG images\n",
    "    image_paths = [\"C:/Users/91703/Desktop/project/AD/ad1 and layers/90.png\", \"C:/Users/91703/Desktop/project/AD/ad1 and layers/91.png\",\"C:/Users/91703/Desktop/project/AD/ad1 and layers/92.png\",\"C:/Users/91703/Desktop/project/AD/ad1 and layers/93.png\"]  # Replace with actual paths\n",
    "    images = [cv2.imread(path, cv2.IMREAD_GRAYSCALE) for path in image_paths]\n",
    "\n",
    "    # Check dimensions and adjust accordingly\n",
    "    max_depth = max(image.shape[1] for image in images)\n",
    "    stacked_images = np.zeros((images[0].shape[0], max_depth, len(images)))\n",
    "    for idx, image in enumerate(images):\n",
    "        stacked_images[:, :image.shape[1], idx] += image\n",
    "\n",
    "    # Compute entropy for different homological layers\n",
    "    homological_entropies = compute_homological_entropies(stacked_images)\n",
    "\n",
    "    # Print results\n",
    "    for i, entropy in enumerate(homological_entropies):\n",
    "        print(f\"Entropy of homological layer h{i}: {entropy}\")\n",
    "\n",
    "if __name__ == \"__main__\":\n",
    "    main()\n"
   ]
  },
  {
   "cell_type": "code",
   "execution_count": 14,
   "metadata": {},
   "outputs": [
    {
     "ename": "ValueError",
     "evalue": "operands could not be broadcast together with shapes (398,411) (433,411) (398,411) ",
     "output_type": "error",
     "traceback": [
      "\u001b[1;31m---------------------------------------------------------------------------\u001b[0m",
      "\u001b[1;31mValueError\u001b[0m                                Traceback (most recent call last)",
      "\u001b[1;32m~\\AppData\\Local\\Temp\\ipykernel_29632\\3045158697.py\u001b[0m in \u001b[0;36m<module>\u001b[1;34m\u001b[0m\n\u001b[0;32m     37\u001b[0m \u001b[1;33m\u001b[0m\u001b[0m\n\u001b[0;32m     38\u001b[0m \u001b[1;32mif\u001b[0m \u001b[0m__name__\u001b[0m \u001b[1;33m==\u001b[0m \u001b[1;34m\"__main__\"\u001b[0m\u001b[1;33m:\u001b[0m\u001b[1;33m\u001b[0m\u001b[1;33m\u001b[0m\u001b[0m\n\u001b[1;32m---> 39\u001b[1;33m     \u001b[0mmain\u001b[0m\u001b[1;33m(\u001b[0m\u001b[1;33m)\u001b[0m\u001b[1;33m\u001b[0m\u001b[1;33m\u001b[0m\u001b[0m\n\u001b[0m",
      "\u001b[1;32m~\\AppData\\Local\\Temp\\ipykernel_29632\\3045158697.py\u001b[0m in \u001b[0;36mmain\u001b[1;34m()\u001b[0m\n\u001b[0;32m     27\u001b[0m     \u001b[0mstacked_images\u001b[0m \u001b[1;33m=\u001b[0m \u001b[0mnp\u001b[0m\u001b[1;33m.\u001b[0m\u001b[0mzeros\u001b[0m\u001b[1;33m(\u001b[0m\u001b[1;33m(\u001b[0m\u001b[0mimages\u001b[0m\u001b[1;33m[\u001b[0m\u001b[1;36m0\u001b[0m\u001b[1;33m]\u001b[0m\u001b[1;33m.\u001b[0m\u001b[0mshape\u001b[0m\u001b[1;33m[\u001b[0m\u001b[1;36m0\u001b[0m\u001b[1;33m]\u001b[0m\u001b[1;33m,\u001b[0m \u001b[0mmax_depth\u001b[0m\u001b[1;33m,\u001b[0m \u001b[0mlen\u001b[0m\u001b[1;33m(\u001b[0m\u001b[0mimages\u001b[0m\u001b[1;33m)\u001b[0m\u001b[1;33m)\u001b[0m\u001b[1;33m)\u001b[0m\u001b[1;33m\u001b[0m\u001b[1;33m\u001b[0m\u001b[0m\n\u001b[0;32m     28\u001b[0m     \u001b[1;32mfor\u001b[0m \u001b[0midx\u001b[0m\u001b[1;33m,\u001b[0m \u001b[0mimage\u001b[0m \u001b[1;32min\u001b[0m \u001b[0menumerate\u001b[0m\u001b[1;33m(\u001b[0m\u001b[0mimages\u001b[0m\u001b[1;33m)\u001b[0m\u001b[1;33m:\u001b[0m\u001b[1;33m\u001b[0m\u001b[1;33m\u001b[0m\u001b[0m\n\u001b[1;32m---> 29\u001b[1;33m         \u001b[0mstacked_images\u001b[0m\u001b[1;33m[\u001b[0m\u001b[1;33m:\u001b[0m\u001b[1;33m,\u001b[0m \u001b[1;33m:\u001b[0m\u001b[0mimage\u001b[0m\u001b[1;33m.\u001b[0m\u001b[0mshape\u001b[0m\u001b[1;33m[\u001b[0m\u001b[1;36m1\u001b[0m\u001b[1;33m]\u001b[0m\u001b[1;33m,\u001b[0m \u001b[0midx\u001b[0m\u001b[1;33m]\u001b[0m \u001b[1;33m+=\u001b[0m \u001b[0mimage\u001b[0m\u001b[1;33m\u001b[0m\u001b[1;33m\u001b[0m\u001b[0m\n\u001b[0m\u001b[0;32m     30\u001b[0m \u001b[1;33m\u001b[0m\u001b[0m\n\u001b[0;32m     31\u001b[0m     \u001b[1;31m# Compute entropy for different homological layers\u001b[0m\u001b[1;33m\u001b[0m\u001b[1;33m\u001b[0m\u001b[0m\n",
      "\u001b[1;31mValueError\u001b[0m: operands could not be broadcast together with shapes (398,411) (433,411) (398,411) "
     ]
    }
   ],
   "source": [
    "import numpy as np\n",
    "from PIL import Image\n",
    "\n",
    "def compute_entropy(image):\n",
    "    # Compute entropy of the image\n",
    "    hist = np.histogram(image.flatten(), bins=256)[0]\n",
    "    hist = hist[hist > 0]\n",
    "    prob = hist / np.sum(hist)\n",
    "    entropy = -np.sum(prob * np.log2(prob))\n",
    "    return entropy\n",
    "\n",
    "def compute_homological_entropies(image_stack):\n",
    "    # Compute entropy for different homological layers\n",
    "    entropies = []\n",
    "    for layer in range(image_stack.shape[2]):\n",
    "        entropy = compute_entropy(image_stack[:, :, layer])\n",
    "        entropies.append(entropy)\n",
    "    return entropies\n",
    "\n",
    "def main():\n",
    "    # Load PNG images\n",
    "    image_paths = [\"C:/Users/91703/Desktop/project/AD/ad1 and layers/90.png\", \"C:/Users/91703/Desktop/project/AD/ad1 and layers/91.png\",\"C:/Users/91703/Desktop/project/AD/ad1 and layers/92.png\",\"C:/Users/91703/Desktop/project/AD/ad1 and layers/93.png\"]  # Replace with actual paths\n",
    "    images = [np.array(Image.open(path).convert(\"L\")) for path in image_paths]\n",
    "\n",
    "    # Check dimensions and adjust accordingly\n",
    "    max_depth = max(image.shape[1] for image in images)\n",
    "    stacked_images = np.zeros((images[0].shape[0], max_depth, len(images)))\n",
    "    for idx, image in enumerate(images):\n",
    "        stacked_images[:, :image.shape[1], idx] += image\n",
    "\n",
    "    # Compute entropy for different homological layers\n",
    "    homological_entropies = compute_homological_entropies(stacked_images)\n",
    "\n",
    "    # Print results\n",
    "    for i, entropy in enumerate(homological_entropies):\n",
    "        print(f\"Entropy of homological layer h{i}: {entropy}\")\n",
    "\n",
    "if __name__ == \"__main__\":\n",
    "    main()\n"
   ]
  },
  {
   "cell_type": "code",
   "execution_count": 16,
   "metadata": {},
   "outputs": [
    {
     "name": "stdout",
     "output_type": "stream",
     "text": [
      "Entropy of homological layer h0: 5.045735203994251\n",
      "Entropy of homological layer h1: 5.191972808894285\n",
      "Entropy of homological layer h2: 5.2115365643416665\n",
      "Entropy of homological layer h3: 5.240274326927576\n",
      "Entropy of homological layer h4: 5.216890249070961\n",
      "Entropy of homological layer h5: 5.262149565975033\n",
      "Entropy of homological layer h6: 5.231183734618158\n",
      "Entropy of homological layer h7: 5.215477495082082\n"
     ]
    }
   ],
   "source": [
    "import numpy as np\n",
    "from PIL import Image\n",
    "\n",
    "def compute_entropy(image):\n",
    "    # Compute entropy of the image\n",
    "    hist = np.histogram(image.flatten(), bins=256)[0]\n",
    "    hist = hist[hist > 0]\n",
    "    prob = hist / np.sum(hist)\n",
    "    entropy = -np.sum(prob * np.log2(prob))\n",
    "    return entropy\n",
    "\n",
    "def compute_homological_entropies(image_stack):\n",
    "    # Compute entropy for different homological layers\n",
    "    entropies = []\n",
    "    for layer in range(image_stack.shape[2]):\n",
    "        entropy = compute_entropy(image_stack[:, :, layer])\n",
    "        entropies.append(entropy)\n",
    "    return entropies\n",
    "\n",
    "def main():\n",
    "    # Load PNG images\n",
    "    image_paths = [\"C:/Users/91703/Desktop/project/AD/ad1 and layers/90.png\", \"C:/Users/91703/Desktop/project/AD/ad1 and layers/91.png\",\"C:/Users/91703/Desktop/project/AD/ad1 and layers/92.png\",\"C:/Users/91703/Desktop/project/AD/ad1 and layers/93.png\",\n",
    "                 \"C:/Users/91703/Desktop/project/AD/ad1 and layers/94.png\",\"C:/Users/91703/Desktop/project/AD/ad1 and layers/95.png\",\"C:/Users/91703/Desktop/project/AD/ad1 and layers/96.png\",\"C:/Users/91703/Desktop/project/AD/ad1 and layers/97.png\"  ]  # Replace with actual paths\n",
    "    images = [np.array(Image.open(path).convert(\"L\")) for path in image_paths]\n",
    "\n",
    "    # Resize images to the smallest common dimensions\n",
    "    min_height = min(image.shape[0] for image in images)\n",
    "    min_width = min(image.shape[1] for image in images)\n",
    "    images_resized = [image[:min_height, :min_width] for image in images]\n",
    "\n",
    "    # Check dimensions and adjust accordingly\n",
    "    max_depth = max(len(images_resized), 1)\n",
    "    stacked_images = np.zeros((min_height, min_width, max_depth))\n",
    "    for idx, image in enumerate(images_resized):\n",
    "        stacked_images[:, :, idx] += image\n",
    "\n",
    "    # Compute entropy for different homological layers\n",
    "    homological_entropies = compute_homological_entropies(stacked_images)\n",
    "\n",
    "    # Print results\n",
    "    for i, entropy in enumerate(homological_entropies):\n",
    "        print(f\"Entropy of homological layer h{i}: {entropy}\")\n",
    "\n",
    "if __name__ == \"__main__\":\n",
    "    main()\n"
   ]
  },
  {
   "cell_type": "code",
   "execution_count": 24,
   "metadata": {},
   "outputs": [
    {
     "name": "stderr",
     "output_type": "stream",
     "text": [
      "c:\\Users\\91703\\anaconda3\\lib\\site-packages\\ripser\\ripser.py:253: UserWarning: The input point cloud has more columns than rows; did you mean to transpose?\n",
      "  warnings.warn(\n",
      "C:\\Users\\91703\\AppData\\Local\\Temp\\ipykernel_29632\\1610385545.py:11: VisibleDeprecationWarning: Creating an ndarray from ragged nested sequences (which is a list-or-tuple of lists-or-tuples-or ndarrays with different lengths or shapes) is deprecated. If you meant to do this, you must specify 'dtype=object' when creating the ndarray.\n",
      "  pd_array = np.array(pd)\n"
     ]
    },
    {
     "ename": "IndexError",
     "evalue": "too many indices for array: array is 1-dimensional, but 2 were indexed",
     "output_type": "error",
     "traceback": [
      "\u001b[1;31m---------------------------------------------------------------------------\u001b[0m",
      "\u001b[1;31mIndexError\u001b[0m                                Traceback (most recent call last)",
      "\u001b[1;32m~\\AppData\\Local\\Temp\\ipykernel_29632\\1610385545.py\u001b[0m in \u001b[0;36m<module>\u001b[1;34m\u001b[0m\n\u001b[0;32m     68\u001b[0m \u001b[1;33m\u001b[0m\u001b[0m\n\u001b[0;32m     69\u001b[0m \u001b[1;32mif\u001b[0m \u001b[0m__name__\u001b[0m \u001b[1;33m==\u001b[0m \u001b[1;34m\"__main__\"\u001b[0m\u001b[1;33m:\u001b[0m\u001b[1;33m\u001b[0m\u001b[1;33m\u001b[0m\u001b[0m\n\u001b[1;32m---> 70\u001b[1;33m     \u001b[0mmain\u001b[0m\u001b[1;33m(\u001b[0m\u001b[1;33m)\u001b[0m\u001b[1;33m\u001b[0m\u001b[1;33m\u001b[0m\u001b[0m\n\u001b[0m",
      "\u001b[1;32m~\\AppData\\Local\\Temp\\ipykernel_29632\\1610385545.py\u001b[0m in \u001b[0;36mmain\u001b[1;34m()\u001b[0m\n\u001b[0;32m     58\u001b[0m \u001b[1;33m\u001b[0m\u001b[0m\n\u001b[0;32m     59\u001b[0m     \u001b[1;31m# Compute entropies from persistent diagram\u001b[0m\u001b[1;33m\u001b[0m\u001b[1;33m\u001b[0m\u001b[0m\n\u001b[1;32m---> 60\u001b[1;33m     \u001b[0mentropies\u001b[0m \u001b[1;33m=\u001b[0m \u001b[0mcompute_homological_entropies\u001b[0m\u001b[1;33m(\u001b[0m\u001b[0mpd\u001b[0m\u001b[1;33m)\u001b[0m\u001b[1;33m\u001b[0m\u001b[1;33m\u001b[0m\u001b[0m\n\u001b[0m\u001b[0;32m     61\u001b[0m \u001b[1;33m\u001b[0m\u001b[0m\n\u001b[0;32m     62\u001b[0m     \u001b[1;31m# Print results\u001b[0m\u001b[1;33m\u001b[0m\u001b[1;33m\u001b[0m\u001b[0m\n",
      "\u001b[1;32m~\\AppData\\Local\\Temp\\ipykernel_29632\\1610385545.py\u001b[0m in \u001b[0;36mcompute_homological_entropies\u001b[1;34m(pd)\u001b[0m\n\u001b[0;32m     13\u001b[0m     \u001b[0mentropies\u001b[0m \u001b[1;33m=\u001b[0m \u001b[1;33m[\u001b[0m\u001b[1;33m]\u001b[0m\u001b[1;33m\u001b[0m\u001b[1;33m\u001b[0m\u001b[0m\n\u001b[0;32m     14\u001b[0m     \u001b[1;32mfor\u001b[0m \u001b[0mdim\u001b[0m \u001b[1;32min\u001b[0m \u001b[0mrange\u001b[0m\u001b[1;33m(\u001b[0m\u001b[1;36m3\u001b[0m\u001b[1;33m)\u001b[0m\u001b[1;33m:\u001b[0m\u001b[1;33m\u001b[0m\u001b[1;33m\u001b[0m\u001b[0m\n\u001b[1;32m---> 15\u001b[1;33m         \u001b[0mhom_dim\u001b[0m \u001b[1;33m=\u001b[0m \u001b[0mpd_array\u001b[0m\u001b[1;33m[\u001b[0m\u001b[0mpd_array\u001b[0m\u001b[1;33m[\u001b[0m\u001b[1;33m:\u001b[0m\u001b[1;33m,\u001b[0m \u001b[1;36m0\u001b[0m\u001b[1;33m]\u001b[0m \u001b[1;33m==\u001b[0m \u001b[0mdim\u001b[0m\u001b[1;33m]\u001b[0m\u001b[1;33m\u001b[0m\u001b[1;33m\u001b[0m\u001b[0m\n\u001b[0m\u001b[0;32m     16\u001b[0m         \u001b[1;32mif\u001b[0m \u001b[0mlen\u001b[0m\u001b[1;33m(\u001b[0m\u001b[0mhom_dim\u001b[0m\u001b[1;33m)\u001b[0m \u001b[1;33m==\u001b[0m \u001b[1;36m0\u001b[0m\u001b[1;33m:\u001b[0m\u001b[1;33m\u001b[0m\u001b[1;33m\u001b[0m\u001b[0m\n\u001b[0;32m     17\u001b[0m             \u001b[0mentropies\u001b[0m\u001b[1;33m.\u001b[0m\u001b[0mappend\u001b[0m\u001b[1;33m(\u001b[0m\u001b[0mnp\u001b[0m\u001b[1;33m.\u001b[0m\u001b[0mnan\u001b[0m\u001b[1;33m)\u001b[0m\u001b[1;33m\u001b[0m\u001b[1;33m\u001b[0m\u001b[0m\n",
      "\u001b[1;31mIndexError\u001b[0m: too many indices for array: array is 1-dimensional, but 2 were indexed"
     ]
    },
    {
     "data": {
      "image/png": "[encoded data removed]",
      "text/plain": [
       "<Figure size 640x480 with 1 Axes>"
      ]
     },
     "metadata": {},
     "output_type": "display_data"
    }
   ],
   "source": [
    "import os\n",
    "import numpy as np\n",
    "import matplotlib.pyplot as plt\n",
    "from skimage import io\n",
    "from skimage.measure import shannon_entropy\n",
    "from ripser import ripser\n",
    "from persim import plot_diagrams\n",
    "from tkinter import Tk, filedialog\n",
    "\n",
    "def compute_homological_entropies(pd):\n",
    "    pd_array = np.array(pd)\n",
    "    # Compute entropy for different homological layers\n",
    "    entropies = []\n",
    "    for dim in range(3):\n",
    "        hom_dim = pd_array[pd_array[:, 0] == dim]\n",
    "        if len(hom_dim) == 0:\n",
    "            entropies.append(np.nan)\n",
    "        else:\n",
    "            hom_dim_values = hom_dim[:, 1]\n",
    "            entropy = shannon_entropy(hom_dim_values)\n",
    "            entropies.append(entropy)\n",
    "    return entropies\n",
    "\n",
    "\n",
    "\n",
    "def select_folder():\n",
    "    root = Tk()\n",
    "    root.withdraw()  # Hide the main window\n",
    "    folder_path = filedialog.askdirectory()  # Open folder dialog\n",
    "    return folder_path\n",
    "\n",
    "def main():\n",
    "    # Ask user to select folder containing images\n",
    "    folder_path = select_folder()\n",
    "    if not folder_path:\n",
    "        print(\"No folder selected. Exiting...\")\n",
    "        return\n",
    "\n",
    "    # List all image files in the folder\n",
    "    image_files = [f for f in os.listdir(folder_path) if f.endswith('.png') or f.endswith('.jpg')]\n",
    "\n",
    "    # Load images and create 3D stack\n",
    "    images = [io.imread(os.path.join(folder_path, f), as_gray=True) for f in image_files]\n",
    "    max_height = max(image.shape[0] for image in images)\n",
    "    max_width = max(image.shape[1] for image in images)\n",
    "    stacked_images = np.zeros((len(images), max_height * max_width))\n",
    "    for idx, image in enumerate(images):\n",
    "        stacked_images[idx, :] = image.flatten()\n",
    "\n",
    "    # Save 3D stack as a NumPy array file\n",
    "    np.save('stacked_images.npy', stacked_images)\n",
    "\n",
    "    # Compute persistent diagram\n",
    "    pd = ripser(stacked_images)['dgms']\n",
    "\n",
    "    # Plot persistent diagram\n",
    "    plot_diagrams(pd)\n",
    "\n",
    "    # Compute entropies from persistent diagram\n",
    "    entropies = compute_homological_entropies(pd)\n",
    "\n",
    "    # Print results\n",
    "    for i, entropy in enumerate(entropies):\n",
    "        print(f\"Entropy of homological layer h{i}: {entropy}\")\n",
    "\n",
    "    # Show plot\n",
    "    plt.show()\n",
    "\n",
    "if __name__ == \"__main__\":\n",
    "    main()\n"
   ]
  }
 ],
 "metadata": {
  "kernelspec": {
   "display_name": "base",
   "language": "python",
   "name": "python3"
  },
  "language_info": {
   "codemirror_mode": {
    "name": "ipython",
    "version": 3
   },
   "file_extension": ".py",
   "mimetype": "text/x-python",
   "name": "python",
   "nbconvert_exporter": "python",
   "pygments_lexer": "ipython3",
   "version": "3.9.13"
  }
 },
 "nbformat": 4,
 "nbformat_minor": 2
}
